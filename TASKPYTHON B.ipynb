{
 "cells": [
  {
   "cell_type": "markdown",
   "metadata": {},
   "source": [
    "NUMB"
   ]
  },
  {
   "cell_type": "code",
   "execution_count": 2,
   "metadata": {},
   "outputs": [
    {
     "name": "stdout",
     "output_type": "stream",
     "text": [
      "67 <class 'int'>\n"
     ]
    }
   ],
   "source": [
    "x = 67\n",
    "print(x, type(x))"
   ]
  },
  {
   "cell_type": "markdown",
   "metadata": {},
   "source": [
    "Booleans"
   ]
  },
  {
   "cell_type": "code",
   "execution_count": null,
   "metadata": {},
   "outputs": [],
   "source": [
    "t, f = True, False\n",
    "print(type(t))"
   ]
  },
  {
   "cell_type": "markdown",
   "metadata": {},
   "source": [
    "Strings"
   ]
  },
  {
   "cell_type": "code",
   "execution_count": 3,
   "metadata": {},
   "outputs": [
    {
     "name": "stdout",
     "output_type": "stream",
     "text": [
      "welcome 5\n"
     ]
    }
   ],
   "source": [
    "greet = 'greet'   \n",
    "welcome = \"welcome\"   # or double quotes; it does not matter\n",
    "print(welcome, len(greet))"
   ]
  },
  {
   "cell_type": "markdown",
   "metadata": {},
   "source": [
    "Loops"
   ]
  },
  {
   "cell_type": "code",
   "execution_count": 7,
   "metadata": {},
   "outputs": [
    {
     "name": "stdout",
     "output_type": "stream",
     "text": [
      "badminton\n",
      "foot ball\n",
      "cricket\n"
     ]
    }
   ],
   "source": [
    "sports = ['badminton','foot ball', 'cricket']\n",
    "for sports in sports:\n",
    "    print(sports) "
   ]
  },
  {
   "cell_type": "markdown",
   "metadata": {},
   "source": [
    "Arrays"
   ]
  },
  {
   "cell_type": "code",
   "execution_count": 9,
   "metadata": {},
   "outputs": [
    {
     "name": "stdout",
     "output_type": "stream",
     "text": [
      "<class 'numpy.ndarray'> (3,) 1 2 3\n",
      "[5 2 3]\n"
     ]
    }
   ],
   "source": [
    "import numpy as np\n",
    "a = np.array([1, 2, 3])  \n",
    "print(type(a), a.shape, a[0], a[1], a[2])\n",
    "a[0] = 5                 \n",
    "print(a)"
   ]
  },
  {
   "cell_type": "markdown",
   "metadata": {},
   "source": [
    "swap 2 varibles without function"
   ]
  },
  {
   "cell_type": "code",
   "execution_count": 5,
   "metadata": {},
   "outputs": [
    {
     "name": "stdout",
     "output_type": "stream",
     "text": [
      "2 1\n"
     ]
    }
   ],
   "source": [
    "def swaped(a,b):\n",
    "    temp = a\n",
    "    a = b\n",
    "    b = temp\n",
    "    print(a,b)\n",
    "\n",
    "swaped(a= 1,b = 2)"
   ]
  },
  {
   "cell_type": "markdown",
   "metadata": {},
   "source": [
    "Swap using xor"
   ]
  },
  {
   "cell_type": "code",
   "execution_count": 6,
   "metadata": {},
   "outputs": [
    {
     "name": "stdout",
     "output_type": "stream",
     "text": [
      "6\n",
      "5\n"
     ]
    }
   ],
   "source": [
    "a=5\n",
    "b=6\n",
    "a = a^b\n",
    "b = a^b\n",
    "a = a^b\n",
    "print(a)\n",
    "print(b)"
   ]
  },
  {
   "cell_type": "markdown",
   "metadata": {},
   "source": [
    "Get array from user"
   ]
  },
  {
   "cell_type": "code",
   "execution_count": null,
   "metadata": {},
   "outputs": [],
   "source": [
    "from array import array\n",
    "\n",
    "arr = array('i', [])\n",
    "\n",
    "n = int(input('Enter the length of the array: '))\n",
    "\n",
    "for i in range(n):\n",
    "    x = int(input('Enter the next value: '))\n",
    "    arr.append(x)\n",
    "\n",
    "print(arr)\n",
    "\n",
    "  \n"
   ]
  },
  {
   "cell_type": "markdown",
   "metadata": {},
   "source": [
    "Simple matrix multiplication"
   ]
  },
  {
   "cell_type": "code",
   "execution_count": 35,
   "metadata": {},
   "outputs": [
    {
     "name": "stdout",
     "output_type": "stream",
     "text": [
      "[[39 31 20]\n",
      " [58 45 30]\n",
      " [50 41 27]]\n"
     ]
    }
   ],
   "source": [
    "from numpy import*\n",
    "\n",
    "m1 = matrix('1 2 3;2 3 4; 1 3 4')\n",
    "m2 = matrix('8 4 3;2 3 4; 9 7 3')\n",
    "\n",
    "m3 = m1*m2\n",
    " \n",
    "print(m3)"
   ]
  },
  {
   "cell_type": "markdown",
   "metadata": {},
   "source": [
    "Simple Fuction "
   ]
  },
  {
   "cell_type": "code",
   "execution_count": 38,
   "metadata": {},
   "outputs": [
    {
     "name": "stdout",
     "output_type": "stream",
     "text": [
      "5\n"
     ]
    }
   ],
   "source": [
    "def update(x):\n",
    "    print(x)\n",
    "    x = 10\n",
    "\n",
    "\n",
    "x = 5\n",
    "update(x)"
   ]
  },
  {
   "cell_type": "markdown",
   "metadata": {},
   "source": [
    "Matrix"
   ]
  },
  {
   "cell_type": "code",
   "execution_count": 31,
   "metadata": {},
   "outputs": [
    {
     "name": "stdout",
     "output_type": "stream",
     "text": [
      "[[58, 64], [139, 154]]\n"
     ]
    }
   ],
   "source": [
    "def matrix_multiplication(A, B):\n",
    "    \n",
    "    rows_A = len(A)\n",
    "    cols_A = len(A[0])\n",
    "    rows_B = len(B)\n",
    "    cols_B = len(B[0])\n",
    "\n",
    "    \n",
    "    if cols_A != rows_B:\n",
    "        raise ValueError(\"Number of columns in A must be equal to the number of rows in B\")\n",
    "\n",
    "    \n",
    "    result = [[0 for _ in range(cols_B)] for _ in range(rows_A)]\n",
    "\n",
    "    \n",
    "    for i in range(rows_A):\n",
    "        for j in range(cols_B):\n",
    "            for k in range(cols_A):\n",
    "                result[i][j] += A[i][k] * B[k][j]\n",
    "\n",
    "    return result\n",
    "\n",
    "\n",
    "A = [[1, 2, 3],\n",
    "     [4, 5, 6]]\n",
    "\n",
    "B = [[7, 8],\n",
    "     [9, 10],\n",
    "     [11, 12]]\n",
    "\n",
    "\n",
    "print(matrix_multiplication(A, B))\n",
    "\n"
   ]
  },
  {
   "cell_type": "markdown",
   "metadata": {},
   "source": [
    "scope\n"
   ]
  },
  {
   "cell_type": "code",
   "execution_count": 2,
   "metadata": {},
   "outputs": [
    {
     "name": "stdout",
     "output_type": "stream",
     "text": [
      "out 10\n"
     ]
    }
   ],
   "source": [
    "a = 10\n",
    "\n",
    "def anything():\n",
    "    a = 13\n",
    "    \n",
    "    print(' in',a)\n",
    "\n",
    "\n",
    "anything\n",
    "\n",
    "    \n",
    "    \n",
    "print('out',a)    "
   ]
  },
  {
   "cell_type": "markdown",
   "metadata": {},
   "source": [
    "Recursion Basics\n"
   ]
  },
  {
   "cell_type": "code",
   "execution_count": 102,
   "metadata": {},
   "outputs": [
    {
     "name": "stdout",
     "output_type": "stream",
     "text": [
      "1000\n",
      "thanks 1\n",
      "thanks 2\n",
      "thanks 3\n",
      "thanks 4\n",
      "thanks 5\n",
      "thanks 6\n",
      "thanks 7\n",
      "thanks 8\n",
      "thanks 9\n",
      "thanks 10\n",
      "thanks 11\n",
      "thanks 12\n",
      "thanks 13\n",
      "thanks 14\n",
      "thanks 15\n",
      "thanks 16\n",
      "thanks 17\n",
      "thanks 18\n",
      "thanks 19\n",
      "thanks 20\n"
     ]
    }
   ],
   "source": [
    "import sys\n",
    "\n",
    "sys.setrecursionlimit(1000)\n",
    "\n",
    "print(sys.getrecursionlimit())\n",
    "\n",
    "i = 0\n",
    "\n",
    "def welcome():\n",
    "    global i\n",
    "    while i < 20:\n",
    "        i += 1\n",
    "        print('thanks', i)\n",
    "\n",
    "welcome()\n",
    "\n"
   ]
  },
  {
   "cell_type": "markdown",
   "metadata": {},
   "source": [
    "Factorial using Recursion"
   ]
  },
  {
   "cell_type": "code",
   "execution_count": 41,
   "metadata": {},
   "outputs": [
    {
     "name": "stdout",
     "output_type": "stream",
     "text": [
      "362880\n"
     ]
    }
   ],
   "source": [
    "def fact(n):\n",
    "    if n==0:\n",
    "       return 1\n",
    "   \n",
    "    return n * fact(n-1)\n",
    "\n",
    "output = fact(9)\n",
    "print(output)\n"
   ]
  },
  {
   "cell_type": "markdown",
   "metadata": {},
   "source": [
    "LAMBDA: Filter, Map, Reduce"
   ]
  },
  {
   "cell_type": "code",
   "execution_count": 39,
   "metadata": {},
   "outputs": [
    {
     "name": "stdout",
     "output_type": "stream",
     "text": [
      "[4, 16, 36, 144]\n",
      "200\n"
     ]
    }
   ],
   "source": [
    "from functools import reduce\n",
    "\n",
    "nums = [3,2,4,6,12,11]\n",
    "\n",
    "evens = list(filter(lambda n : n%2==0,nums))\n",
    "\n",
    "double = list(map(lambda n: n*n,evens))\n",
    "\n",
    "print(double)\n",
    "\n",
    "add = reduce(lambda a,b : a+b,double)\n",
    "\n",
    "print(add)\n"
   ]
  },
  {
   "cell_type": "markdown",
   "metadata": {},
   "source": [
    "Decorators basics"
   ]
  },
  {
   "cell_type": "code",
   "execution_count": 66,
   "metadata": {},
   "outputs": [
    {
     "name": "stdout",
     "output_type": "stream",
     "text": [
      "2.0\n"
     ]
    }
   ],
   "source": [
    "def div(a ,b):\n",
    "    print(a / b)\n",
    "    \n",
    "def smart_div(func):\n",
    "        \n",
    "        def inner(a,b):\n",
    "            if a<b: \n",
    "               a, b = b, a \n",
    "            return func(a, b) \n",
    "        return  inner\n",
    "\n",
    "div=  smart_div(div) \n",
    "div(2,4)     "
   ]
  },
  {
   "cell_type": "markdown",
   "metadata": {},
   "source": [
    "Basics of class"
   ]
  },
  {
   "cell_type": "code",
   "execution_count": 73,
   "metadata": {},
   "outputs": [
    {
     "name": "stdout",
     "output_type": "stream",
     "text": [
      "6 gear, 2disc, carbon fiber\n",
      "6 gear, 2disc, carbon fiber\n"
     ]
    }
   ],
   "source": [
    "class instr:\n",
    "    \n",
    "    def gear(self):\n",
    "        print('6 gear, 2disc, carbon fiber')\n",
    "        \n",
    "bi1 = instr()\n",
    "bi2 = instr()\n",
    "\n",
    "\n",
    "bi1.gear() \n",
    "bi2.gear()      "
   ]
  },
  {
   "cell_type": "markdown",
   "metadata": {},
   "source": [
    "Class variables"
   ]
  },
  {
   "cell_type": "code",
   "execution_count": 74,
   "metadata": {},
   "outputs": [
    {
     "name": "stdout",
     "output_type": "stream",
     "text": [
      "4li 2500\n"
     ]
    }
   ],
   "source": [
    "class car:\n",
    "    \n",
    "    def __init__(self):\n",
    "        self.cc = 1500\n",
    "        self.jdm = '4li'\n",
    "        \n",
    "c1 = car()\n",
    "c2 = car()        \n",
    "        \n",
    "c1.cc= 2500\n",
    "print(c1.jdm, c1.cc)"
   ]
  },
  {
   "cell_type": "markdown",
   "metadata": {},
   "source": [
    "Class Methods"
   ]
  },
  {
   "cell_type": "code",
   "execution_count": 83,
   "metadata": {},
   "outputs": [
    {
     "name": "stdout",
     "output_type": "stream",
     "text": [
      "13.666666666666666\n",
      "avg mark of sports student\n"
     ]
    }
   ],
   "source": [
    "class student:\n",
    "    \n",
    "    def __init__(self, ms1, ms2, ms3):\n",
    "        self.m1 = ms1\n",
    "        self.m2 = ms2\n",
    "        self.m3 = ms3\n",
    "    def avg(self):\n",
    "            return (self.m1+self.m2+self.m3)/3\n",
    "    @staticmethod\n",
    "    def infd():\n",
    "        print('avg mark of sports student')\n",
    "            \n",
    "st1 = student(12, 14, 15) \n",
    "st2 = student(18, 17, 16)  \n",
    "    \n",
    "print(st1.avg())    \n",
    "student.infd()      \n",
    "        \n",
    "        \n",
    "        "
   ]
  },
  {
   "cell_type": "markdown",
   "metadata": {},
   "source": [
    "Class within class"
   ]
  },
  {
   "cell_type": "code",
   "execution_count": 89,
   "metadata": {},
   "outputs": [
    {
     "name": "stdout",
     "output_type": "stream",
     "text": [
      "Ashwanth 17\n",
      "mac 10\n"
     ]
    }
   ],
   "source": [
    "class student:\n",
    "    \n",
    "    \n",
    "    def __init__(self,name,rollno):\n",
    "        self.name = name\n",
    "        self.rollno = rollno\n",
    "        self.lap = self.laptop()\n",
    "    \n",
    "    def show(self):\n",
    "        print(self.name, self.rollno)\n",
    "        self.lap.show()\n",
    "        \n",
    "    class laptop:\n",
    "        def __init__(self):\n",
    "            self.comp = 'mac'\n",
    "            self.cpu = '10'\n",
    "            \n",
    "        def show():\n",
    "            print(self.comp, self.cpu)\n",
    "\n",
    "s1 = student('ashwanth',17) \n",
    "s1.show()  \n",
    "\n",
    "\n",
    "         \n",
    "            "
   ]
  },
  {
   "cell_type": "markdown",
   "metadata": {},
   "source": [
    "Multi threading"
   ]
  },
  {
   "cell_type": "code",
   "execution_count": 96,
   "metadata": {},
   "outputs": [
    {
     "name": "stdout",
     "output_type": "stream",
     "text": [
      "greet\n",
      "hi\n",
      "thanks\n"
     ]
    },
    {
     "name": "stdout",
     "output_type": "stream",
     "text": [
      "greet\n"
     ]
    }
   ],
   "source": [
    "from time import sleep\n",
    "from threading import *\n",
    "\n",
    "class hello(Thread):\n",
    "    def run(self):\n",
    "        for i in range(2):\n",
    "            print('greet')\n",
    "            sleep(1)\n",
    "            \n",
    "class welcome(Thread):\n",
    "     def run(self):\n",
    "         for i in range(1):\n",
    "             print('hi')\n",
    "             \n",
    "s1 = hello()\n",
    "s2 = welcome()\n",
    "\n",
    "\n",
    "s1.start()\n",
    "sleep(0.5)\n",
    "s2.start() \n",
    " \n",
    "print('thanks')                         \n",
    "    \n",
    "             "
   ]
  }
 ],
 "metadata": {
  "kernelspec": {
   "display_name": ".venv",
   "language": "python",
   "name": "python3"
  },
  "language_info": {
   "codemirror_mode": {
    "name": "ipython",
    "version": 3
   },
   "file_extension": ".py",
   "mimetype": "text/x-python",
   "name": "python",
   "nbconvert_exporter": "python",
   "pygments_lexer": "ipython3",
   "version": "3.12.5"
  }
 },
 "nbformat": 4,
 "nbformat_minor": 2
}
